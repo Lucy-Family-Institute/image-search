{
 "cells": [
  {
   "cell_type": "markdown",
   "id": "ccaf440d",
   "metadata": {},
   "source": [
    "## Download images using GoogleImagesSearch API"
   ]
  },
  {
   "cell_type": "code",
   "execution_count": null,
   "id": "f83f308d",
   "metadata": {},
   "outputs": [],
   "source": [
    "from google_images_search import GoogleImagesSearch\n",
    "import os\n",
    "\n",
    "\n",
    "# you can provide API key and CX using arguments,\n",
    "# or you can set environment variables: GCS_DEVELOPER_KEY, GCS_CX\n",
    "gis = GoogleImagesSearch(os.environ['GCS_DEVELOPER_KEY'], os.environ['GCS_CX'])\n",
    "\n",
    "# define search params:\n",
    "_search_params = {\n",
    "    'q': 'data mapping images', ## Keywords\n",
    "    'num': 20,\n",
    "    'safe': 'high',\n",
    "    'fileType': 'jpg|gif|png',\n",
    "    'imgSize': 'HUGE',\n",
    "    'rights': 'cc_publicdomain|cc_attribute|cc_sharealike|cc_noncommercial|cc_nonderived'\n",
    "}\n",
    "\n",
    "# this will search, download and resize:\n",
    "gis.search(search_params=_search_params, path_to_dir='/Users/rmakhija/Documents/images1')"
   ]
  },
  {
   "cell_type": "markdown",
   "id": "f49806bd",
   "metadata": {},
   "source": [
    "### Download images using Openverse"
   ]
  },
  {
   "cell_type": "code",
   "execution_count": 123,
   "id": "807fe64c",
   "metadata": {},
   "outputs": [
    {
     "name": "stdout",
     "output_type": "stream",
     "text": [
      "\"data mapping\"\n"
     ]
    }
   ],
   "source": [
    "import requests\n",
    "import urllib.request\n",
    "from PIL import Image\n",
    "a = 'Bearer ' + os.environ['OPENVERSE_AUTH']\n",
    "x=20\n",
    "\n",
    "for keyword in ['\"data mapping\"']: ## add your keywords to the list\n",
    "    #print(keyword.split('+')[0])\n",
    "    for page in range(1, 3):\n",
    "\n",
    "        headers = {\n",
    "            'Authorization': a,\n",
    "        }\n",
    "\n",
    "        params = (\n",
    "            ('title', keyword),\n",
    "            ('page', page),\n",
    "        )\n",
    "\n",
    "        r = requests.get('https://api.openverse.engineering/v1/images/', headers=headers, params=params)\n",
    "        if(r.json()['result_count'] > x):\n",
    "            y = x\n",
    "        else:\n",
    "            y = r.json()['result_count']\n",
    "        for image in range(0, y):\n",
    "            urllib.request.urlretrieve(r.json()['results'][image]['url'],\n",
    "                                        '/Users/rmakhija/Documents/images/'+keyword + '_' + str(page)+ '_' +str(image) +'.png')\n",
    "\n"
   ]
  },
  {
   "cell_type": "markdown",
   "id": "bd0698eb",
   "metadata": {},
   "source": [
    "### Download images from wikipedia"
   ]
  },
  {
   "cell_type": "code",
   "execution_count": 117,
   "id": "d3410e9c",
   "metadata": {},
   "outputs": [
    {
     "name": "stderr",
     "output_type": "stream",
     "text": [
      "Can't handle color: url(#flowRoot2762_1_)\n",
      "Can't handle color: url(#flowRoot3743_2_)\n",
      "Can't handle color: url(#text3751_1_)\n",
      "Can't handle color: url(#flowRoot3695_2_)\n",
      "Can't handle color: url(#flowRoot3683_1_)\n",
      "Can't handle color: url(#text3899_1_)\n",
      "Can't handle color: url(#path3098_1_)\n",
      "Can't handle color: url(#path4921_1_)\n",
      "Can't handle color: url(#flowRoot2865_1_)\n"
     ]
    }
   ],
   "source": [
    "import wikipedia\n",
    "result = wikipedia.search('workflow') ## keyword\n",
    "\n",
    "import requests\n",
    "from svglib.svglib import svg2rlg\n",
    "from reportlab.graphics import renderPM\n",
    "\n",
    "def write_text(data: str, path: str):\n",
    "    with open(path, 'w') as file:\n",
    "        file.write(data)\n",
    "\n",
    "url = wikipedia.page(result[0]).images[1]\n",
    "svg = requests.get(url).text\n",
    "write_text(svg, '1.svg')\n",
    "drawing = svg2rlg(\"1.svg\")\n",
    "renderPM.drawToFile(drawing, \"file.png\", fmt=\"PNG\")"
   ]
  },
  {
   "cell_type": "markdown",
   "id": "67fbb174",
   "metadata": {},
   "source": [
    "### Download images using selenium and chromedriver"
   ]
  },
  {
   "cell_type": "code",
   "execution_count": 24,
   "id": "be278e2e",
   "metadata": {},
   "outputs": [
    {
     "name": "stderr",
     "output_type": "stream",
     "text": [
      "\n",
      "\n",
      "====== WebDriver manager ======\n",
      "Current google-chrome version is 98.0.4758\n",
      "Get LATEST chromedriver version for 98.0.4758 google-chrome\n",
      "Driver [/Users/rmakhija/.wdm/drivers/chromedriver/mac64/98.0.4758.102/chromedriver] found in cache\n",
      "/var/folders/r_/yj7n3d0509s9_rzs0p0bbwkh0000gn/T/ipykernel_1106/1618480575.py:10: DeprecationWarning: find_element_by_* commands are deprecated. Please use find_element() instead\n",
      "  box = driver.find_element_by_xpath('//*[@id=\"sbtc\"]/div/div[2]/input')\n",
      "/var/folders/r_/yj7n3d0509s9_rzs0p0bbwkh0000gn/T/ipykernel_1106/1618480575.py:22: DeprecationWarning: find_element_by_* commands are deprecated. Please use find_element() instead\n",
      "  driver.find_element_by_xpath('//*[@id=\"islmp\"]/div/div/div/div/div[5]/input').click()\n",
      "/var/folders/r_/yj7n3d0509s9_rzs0p0bbwkh0000gn/T/ipykernel_1106/1618480575.py:32: DeprecationWarning: find_element_by_* commands are deprecated. Please use find_element() instead\n",
      "  driver.find_element_by_xpath('//*[@id=\"islrg\"]/div[1]/div[1]/a[1]/div[1]/img')\n",
      "/var/folders/r_/yj7n3d0509s9_rzs0p0bbwkh0000gn/T/ipykernel_1106/1618480575.py:37: DeprecationWarning: find_element_by_* commands are deprecated. Please use find_element() instead\n",
      "  driver.find_element_by_xpath('//*[@id=\"islrg\"]/div[1]/div['+str(i)+']/a[1]/div[1]/img').screenshot('/Users/rmakhija/Documents/images1/'+keyword+' ('+str(i)+').png')\n"
     ]
    }
   ],
   "source": [
    "from selenium import webdriver\n",
    "from selenium.webdriver.chrome.service import Service\n",
    "from webdriver_manager.chrome import ChromeDriverManager\n",
    "from selenium.webdriver.common.keys import Keys\n",
    "import time \n",
    "\n",
    "driver = webdriver.Chrome(service=Service(ChromeDriverManager().install()))\n",
    "driver.get('https://www.google.ca/imghp?hl=en&tab=ri&authuser=0&ogbl')\n",
    "\n",
    "box = driver.find_element_by_xpath('//*[@id=\"sbtc\"]/div/div[2]/input')\n",
    "keyword = 'data mapping'  ## keyword\n",
    "box.send_keys(keyword)\n",
    "box.send_keys(Keys.ENTER)\n",
    "\n",
    "#Will keep scrolling down the webpage until it cannot scroll no more\n",
    "last_height = driver.execute_script('return document.body.scrollHeight')\n",
    "while True:\n",
    "    driver.execute_script('window.scrollTo(0,document.body.scrollHeight)')\n",
    "    time.sleep(2)\n",
    "    new_height = driver.execute_script('return document.body.scrollHeight')\n",
    "    try:\n",
    "        driver.find_element_by_xpath('//*[@id=\"islmp\"]/div/div/div/div/div[5]/input').click()\n",
    "        time.sleep(2)\n",
    "    except:\n",
    "        pass\n",
    "    if new_height == last_height:\n",
    "        break\n",
    "    last_height = new_height\n",
    "    \n",
    "for i in range(1, 40):\n",
    "    try:\n",
    "        driver.find_element_by_xpath('//*[@id=\"islrg\"]/div[1]/div[1]/a[1]/div[1]/img')\n",
    "    except:\n",
    "        pass\n",
    "for i in range(1, 40):\n",
    "    try:\n",
    "        driver.find_element_by_xpath('//*[@id=\"islrg\"]/div[1]/div['+str(i)+']/a[1]/div[1]/img').screenshot(\n",
    "            '/Users/rmakhija/Documents/images1/'+keyword+' ('+str(i)+').png')\n",
    "    except:\n",
    "        pass"
   ]
  },
  {
   "cell_type": "markdown",
   "id": "026f7415",
   "metadata": {},
   "source": [
    "### Download images using simple-image-download by PyPI"
   ]
  },
  {
   "cell_type": "code",
   "execution_count": 26,
   "id": "c62d76a6",
   "metadata": {},
   "outputs": [
    {
     "name": "stderr",
     "output_type": "stream",
     "text": [
      "[=========================================================================] 100%\n"
     ]
    }
   ],
   "source": [
    "### https://pypi.org/project/simple-image-download/\n",
    "\n",
    "## Creates a folder named download in the current working directory\n",
    "\n",
    "from simple_image_download import simple_image_download as simp \n",
    "response = simp.simple_image_download\n",
    "lst=['Data mapping']\n",
    "for rep in lst:\n",
    "    response().download(rep, 40)"
   ]
  }
 ],
 "metadata": {
  "kernelspec": {
   "display_name": "Python 3 (ipykernel)",
   "language": "python",
   "name": "python3"
  },
  "language_info": {
   "codemirror_mode": {
    "name": "ipython",
    "version": 3
   },
   "file_extension": ".py",
   "mimetype": "text/x-python",
   "name": "python",
   "nbconvert_exporter": "python",
   "pygments_lexer": "ipython3",
   "version": "3.9.7"
  }
 },
 "nbformat": 4,
 "nbformat_minor": 5
}
